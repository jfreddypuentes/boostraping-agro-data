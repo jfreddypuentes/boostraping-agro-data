{
 "cells": [
  {
   "cell_type": "markdown",
   "metadata": {},
   "source": [
    "## Boostrapping, Intervalos de confianza"
   ]
  },
  {
   "cell_type": "code",
   "execution_count": 1,
   "metadata": {},
   "outputs": [],
   "source": [
    "import numpy as np\n",
    "import pandas as pd\n",
    "import matplotlib.pyplot as plt"
   ]
  },
  {
   "cell_type": "code",
   "execution_count": 2,
   "metadata": {},
   "outputs": [],
   "source": [
    "data = pd.read_csv('agro_data.csv', sep=';', encoding = \"ISO-8859-1\")"
   ]
  },
  {
   "cell_type": "code",
   "execution_count": 3,
   "metadata": {},
   "outputs": [
    {
     "name": "stdout",
     "output_type": "stream",
     "text": [
      "Index(['DEPARTAMENTO', 'GRUPO_CULTIVO', 'CULTIVO', 'ANIO', 'AREA_SEMBRADA',\n",
      "       'AREA_COSECHADA', 'PRODUCCION', 'RENDIMIENTO', 'CICLO_DE_CULTIVO'],\n",
      "      dtype='object')\n"
     ]
    }
   ],
   "source": [
    "print(data.columns)"
   ]
  },
  {
   "cell_type": "code",
   "execution_count": 5,
   "metadata": {},
   "outputs": [
    {
     "data": {
      "text/plain": [
       "0         0.50\n",
       "1         0.82\n",
       "2         1.00\n",
       "3         1.00\n",
       "4         1.00\n",
       "          ... \n",
       "201931    3.13\n",
       "201932    4.26\n",
       "201933    3.10\n",
       "201934    4.26\n",
       "201935    2.97\n",
       "Name: RENDIMIENTO, Length: 201936, dtype: float64"
      ]
     },
     "execution_count": 5,
     "metadata": {},
     "output_type": "execute_result"
    }
   ],
   "source": [
    "rendimiento = data['RENDIMIENTO']\n",
    "rendimiento"
   ]
  },
  {
   "cell_type": "markdown",
   "metadata": {},
   "source": [
    "## ¿Cuál el la Media, SD y SE del rendimiento de cultivos en el pais?"
   ]
  },
  {
   "cell_type": "markdown",
   "metadata": {},
   "source": [
    "### Toda la muestra"
   ]
  },
  {
   "cell_type": "code",
   "execution_count": 7,
   "metadata": {},
   "outputs": [
    {
     "name": "stdout",
     "output_type": "stream",
     "text": [
      "[ALL DATA] Mean: 9.19 SD: 14.74 SE: 0.03\n"
     ]
    }
   ],
   "source": [
    "all_mean = round(rendimiento.mean(), 2)\n",
    "all_std = round(rendimiento.std(), 2)\n",
    "all_se = round(rendimiento.std()/(len(data) ** 0.5), 2)\n",
    "print('[ALL DATA] Mean: {} SD: {} SE: {}'.format(all_mean, all_std, all_se))"
   ]
  },
  {
   "cell_type": "markdown",
   "metadata": {},
   "source": [
    "#### Gráfica"
   ]
  },
  {
   "cell_type": "code",
   "execution_count": 8,
   "metadata": {},
   "outputs": [
    {
     "data": {
      "text/plain": [
       "(array([1.88206e+05, 9.93500e+03, 1.39800e+03, 7.61000e+02, 9.84000e+02,\n",
       "        3.74000e+02, 1.80000e+02, 7.00000e+01, 2.00000e+01, 8.00000e+00]),\n",
       " array([3.00000e-02, 2.46270e+01, 4.92240e+01, 7.38210e+01, 9.84180e+01,\n",
       "        1.23015e+02, 1.47612e+02, 1.72209e+02, 1.96806e+02, 2.21403e+02,\n",
       "        2.46000e+02]),\n",
       " <a list of 10 Patch objects>)"
      ]
     },
     "execution_count": 8,
     "metadata": {},
     "output_type": "execute_result"
    },
    {
     "data": {
      "image/png": "[encoded data removed]",
      "text/plain": [
       "<Figure size 432x288 with 1 Axes>"
      ]
     },
     "metadata": {
      "needs_background": "light"
     },
     "output_type": "display_data"
    }
   ],
   "source": [
    "plt.hist(rendimiento)"
   ]
  },
  {
   "cell_type": "markdown",
   "metadata": {},
   "source": [
    "### Con una sola muestra"
   ]
  },
  {
   "cell_type": "code",
   "execution_count": 10,
   "metadata": {},
   "outputs": [
    {
     "name": "stdout",
     "output_type": "stream",
     "text": [
      "[One Sample] Mean: 9.22 SD: 13.22 SE: 0.42\n"
     ]
    }
   ],
   "source": [
    "sample_size = 1000\n",
    "sample = np.random.choice(data['RENDIMIENTO'], size=sample_size)\n",
    "sample_mean = round(sample.mean(), 2)\n",
    "sample_std = round(sample.std(), 2)\n",
    "sample_se = round(sample.std()/(sample_size ** 0.5), 2)\n",
    "print('[One Sample] Mean: {} SD: {} SE: {}'.format(sample_mean, sample_std, sample_se))"
   ]
  },
  {
   "cell_type": "markdown",
   "metadata": {},
   "source": [
    "#### Gráfica"
   ]
  },
  {
   "cell_type": "code",
   "execution_count": 11,
   "metadata": {},
   "outputs": [
    {
     "data": {
      "text/plain": [
       "(array([839., 121.,  21.,   7.,   3.,   3.,   3.,   2.,   0.,   1.]),\n",
       " array([1.20000e-01, 1.51080e+01, 3.00960e+01, 4.50840e+01, 6.00720e+01,\n",
       "        7.50600e+01, 9.00480e+01, 1.05036e+02, 1.20024e+02, 1.35012e+02,\n",
       "        1.50000e+02]),\n",
       " <a list of 10 Patch objects>)"
      ]
     },
     "execution_count": 11,
     "metadata": {},
     "output_type": "execute_result"
    },
    {
     "data": {
      "image/png": "[encoded data removed]",
      "text/plain": [
       "<Figure size 432x288 with 1 Axes>"
      ]
     },
     "metadata": {
      "needs_background": "light"
     },
     "output_type": "display_data"
    }
   ],
   "source": [
    "plt.hist(sample)"
   ]
  },
  {
   "cell_type": "markdown",
   "metadata": {},
   "source": [
    "### Boostrap"
   ]
  },
  {
   "cell_type": "code",
   "execution_count": 12,
   "metadata": {},
   "outputs": [],
   "source": [
    "sample_means = []\n",
    "iterations = 10000\n",
    "simulated_sample_size = 1000\n",
    "for _ in range(iterations):\n",
    "    sample = np.random.choice(rendimiento, size=simulated_sample_size)\n",
    "    sample_means.append(sample.mean())"
   ]
  },
  {
   "cell_type": "code",
   "execution_count": 13,
   "metadata": {},
   "outputs": [
    {
     "name": "stdout",
     "output_type": "stream",
     "text": [
      "[BOOSTRAPPING] Mean: 9.19 SD: 0.47 SE: 0.01\n"
     ]
    }
   ],
   "source": [
    "simulated_mean = round(np.mean(sample_means),2)\n",
    "simulated_std = round(np.std(sample_means),2)\n",
    "simulated_se = round(simulated_std/(simulated_sample_size ** 0.5),2)\n",
    "print('[BOOSTRAPPING] Mean: {} SD: {} SE: {}'.format(simulated_mean, simulated_std, simulated_se))"
   ]
  },
  {
   "cell_type": "markdown",
   "metadata": {},
   "source": [
    "#### Gráfica"
   ]
  },
  {
   "cell_type": "code",
   "execution_count": 14,
   "metadata": {},
   "outputs": [
    {
     "data": {
      "text/plain": [
       "<matplotlib.lines.Line2D at 0x12035c1d0>"
      ]
     },
     "execution_count": 14,
     "metadata": {},
     "output_type": "execute_result"
    },
    {
     "data": {
      "image/png": "[encoded data removed]",
      "text/plain": [
       "<Figure size 432x288 with 1 Axes>"
      ]
     },
     "metadata": {
      "needs_background": "light"
     },
     "output_type": "display_data"
    }
   ],
   "source": [
    "plt.hist(sample_means)\n",
    "plt.axvline(simulated_mean, color='red', linestyle='dashed', linewidth=2)"
   ]
  },
  {
   "cell_type": "markdown",
   "metadata": {},
   "source": [
    "### Intervalo de confianza"
   ]
  },
  {
   "cell_type": "markdown",
   "metadata": {},
   "source": [
    "#### Por error estandar."
   ]
  },
  {
   "attachments": {
    "confidence_interval_formula.png": {
     "image/png": "[encoded data removed]"
    }
   },
   "cell_type": "markdown",
   "metadata": {},
   "source": [
    "![confidence_interval_formula.png](attachment:confidence_interval_formula.png)"
   ]
  },
  {
   "cell_type": "code",
   "execution_count": 15,
   "metadata": {},
   "outputs": [
    {
     "name": "stdout",
     "output_type": "stream",
     "text": [
      "El intervalo de confianza para el rendimiento es:\n",
      " (9.19 - 1.96 · 0.01, 9.19 + 1.96 · 0.01)\n",
      "(9.17,9.21)\n"
     ]
    }
   ],
   "source": [
    "print('El intervalo de confianza para el rendimiento es:\\n ({} - 1.96 · {}, {} + 1.96 · {})'.format(simulated_mean, simulated_se, simulated_mean, simulated_se))\n",
    "low = round(simulated_mean-(1.96*simulated_se), 2)\n",
    "hig = round(simulated_mean+(1.96*simulated_se), 2)\n",
    "print('({},{})'.format(low,hig))"
   ]
  },
  {
   "cell_type": "code",
   "execution_count": 16,
   "metadata": {},
   "outputs": [
    {
     "data": {
      "text/plain": [
       "<matplotlib.lines.Line2D at 0x12045ac50>"
      ]
     },
     "execution_count": 16,
     "metadata": {},
     "output_type": "execute_result"
    },
    {
     "data": {
      "image/png": "[encoded data removed]",
      "text/plain": [
       "<Figure size 432x288 with 1 Axes>"
      ]
     },
     "metadata": {
      "needs_background": "light"
     },
     "output_type": "display_data"
    }
   ],
   "source": [
    "plt.hist(sample_means)\n",
    "plt.axvline(low, color='red', linestyle='dashed', linewidth=2)\n",
    "plt.axvline(hig, color='red', linestyle='dashed', linewidth=2)"
   ]
  },
  {
   "cell_type": "markdown",
   "metadata": {},
   "source": [
    "## Por Percentil"
   ]
  },
  {
   "cell_type": "code",
   "execution_count": 17,
   "metadata": {},
   "outputs": [
    {
     "name": "stdout",
     "output_type": "stream",
     "text": [
      "[ 8.3182735 10.1556945]\n"
     ]
    }
   ],
   "source": [
    "intervalo_percentil = np.percentile(sample_means, [2.5,97.5])\n",
    "print(intervalo_percentil)"
   ]
  },
  {
   "cell_type": "code",
   "execution_count": 18,
   "metadata": {},
   "outputs": [
    {
     "data": {
      "text/plain": [
       "<matplotlib.lines.Line2D at 0x120544a90>"
      ]
     },
     "execution_count": 18,
     "metadata": {},
     "output_type": "execute_result"
    },
    {
     "data": {
      "image/png": "[encoded data removed]",
      "text/plain": [
       "<Figure size 432x288 with 1 Axes>"
      ]
     },
     "metadata": {
      "needs_background": "light"
     },
     "output_type": "display_data"
    }
   ],
   "source": [
    "plt.hist(sample_means)\n",
    "plt.axvline(intervalo_percentil[0], color='red', linestyle='dashed', linewidth=2)\n",
    "plt.axvline(intervalo_percentil[1], color='red', linestyle='dashed', linewidth=2)"
   ]
  },
  {
   "cell_type": "markdown",
   "metadata": {},
   "source": [
    "## Notas"
   ]
  },
  {
   "cell_type": "markdown",
   "metadata": {},
   "source": [
    "- Cuando hacemos muchas iteraciones y el tamaño de muestra es grande, es error baja y el intervalo se acota.\n",
    "- Cuando la población es grande y usamos el método de percentil, el intervalo es grande pero error tambien."
   ]
  }
 ],
 "metadata": {
  "kernelspec": {
   "display_name": "Python 3",
   "language": "python",
   "name": "python3"
  },
  "language_info": {
   "codemirror_mode": {
    "name": "ipython",
    "version": 3
   },
   "file_extension": ".py",
   "mimetype": "text/x-python",
   "name": "python",
   "nbconvert_exporter": "python",
   "pygments_lexer": "ipython3",
   "version": "3.7.4"
  }
 },
 "nbformat": 4,
 "nbformat_minor": 2
}
